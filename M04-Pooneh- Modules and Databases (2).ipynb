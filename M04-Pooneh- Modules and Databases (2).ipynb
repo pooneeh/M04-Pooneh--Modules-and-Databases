{
 "cells": [
  {
   "cell_type": "code",
   "execution_count": 31,
   "id": "48d0f40a",
   "metadata": {},
   "outputs": [
    {
     "ename": "ModuleNotFoundError",
     "evalue": "No module named 'zoo'",
     "output_type": "error",
     "traceback": [
      "\u001b[1;31m---------------------------------------------------------------------------\u001b[0m",
      "\u001b[1;31mModuleNotFoundError\u001b[0m                       Traceback (most recent call last)",
      "Cell \u001b[1;32mIn[31], line 13\u001b[0m\n\u001b[0;32m     10\u001b[0m \u001b[38;5;28;01mdef\u001b[39;00m \u001b[38;5;21mhours\u001b[39m():\n\u001b[0;32m     11\u001b[0m     Open(\u001b[38;5;124m\"\u001b[39m\u001b[38;5;124m9-5 daily\u001b[39m\u001b[38;5;124m\"\u001b[39m)\n\u001b[1;32m---> 13\u001b[0m \u001b[38;5;28;01mimport\u001b[39;00m \u001b[38;5;21;01mzoo\u001b[39;00m\n\u001b[0;32m     14\u001b[0m zoo\u001b[38;5;241m.\u001b[39mhours()\n\u001b[0;32m     15\u001b[0m Open (\u001b[38;5;124m\"\u001b[39m\u001b[38;5;124m9-5 daily\u001b[39m\u001b[38;5;124m\"\u001b[39m)\n",
      "\u001b[1;31mModuleNotFoundError\u001b[0m: No module named 'zoo'"
     ]
    }
   ],
   "source": [
    "\"\"\"\n",
    "#Pooneh\n",
    "SDEV 220\n",
    "CH11\n",
    "\"\"\"\n",
    "\n",
    "#11.1 Create a file called zoo.py. In it, define a function called hours() that prints the string 'Open 9-5 daily'. Then, use the interactive interpreter to import the zoo module and call its hours() function.\n",
    "\n",
    "\n",
    "def hours():\n",
    "    Open(\"9-5 daily\")\n",
    "    \n",
    "import zoo\n",
    "zoo.hours()\n",
    "Open (\"9-5 daily\")"
   ]
  },
  {
   "cell_type": "code",
   "execution_count": 29,
   "id": "713e7a6c",
   "metadata": {},
   "outputs": [
    {
     "ename": "SyntaxError",
     "evalue": "invalid syntax (4086679915.py, line 6)",
     "output_type": "error",
     "traceback": [
      "\u001b[1;36m  Cell \u001b[1;32mIn[29], line 6\u001b[1;36m\u001b[0m\n\u001b[1;33m    Open 9-5 daily\u001b[0m\n\u001b[1;37m         ^\u001b[0m\n\u001b[1;31mSyntaxError\u001b[0m\u001b[1;31m:\u001b[0m invalid syntax\n"
     ]
    }
   ],
   "source": [
    "#11.2 In the interactive interpreter, import the zoo module as menagerie and call its hours() function.\n",
    "\n",
    "\n",
    "import zoo as menagerie\n",
    "menagerie.hours()\n",
    "Open 9-5 daily"
   ]
  },
  {
   "cell_type": "code",
   "execution_count": 33,
   "id": "5d1196da",
   "metadata": {},
   "outputs": [
    {
     "name": "stdout",
     "output_type": "stream",
     "text": [
      "books2.csv file has been created successfully!\n"
     ]
    }
   ],
   "source": [
    "#16.3 Create a CSV file called books2.csv by using these lines\n",
    "\n",
    "import csv\n",
    "\n",
    "data = [['title', 'author', 'year'],\n",
    "        ['The Weirdstone of Brisingamen', 'Alan Garner', 1960],\n",
    "        ['Perdido Street Station', 'China Miéville', 2000],\n",
    "        ['Thud!', 'Terry Pratchett', 2005],\n",
    "        ['The Spellman Files', 'Lisa Lutz', 2007],\n",
    "        ['Small Gods', 'Terry Pratchett', 1992]]\n",
    "\n",
    "# Write the data to the CSV file\n",
    "with open('books2.csv', 'w', newline='') as csvfile:\n",
    "    writer = csv.writer(csvfile)\n",
    "    writer.writerows(data)\n",
    "\n",
    "print('books2.csv file has been created successfully!')\n",
    "\n"
   ]
  },
  {
   "cell_type": "code",
   "execution_count": 37,
   "id": "135290da",
   "metadata": {},
   "outputs": [],
   "source": [
    "#16.4 Use the sqlite3 module to create a SQLite database called books.db and a table called books with these fields: title (text), author (text), and year (integer).\n",
    "\n",
    "import sqlite3\n",
    "\n",
    "conn = sqlite3.connect('books.db')\n",
    "c = conn.cursor()\n",
    "\n",
    "# Create 'books' table\n",
    "c.execute('''CREATE TABLE IF NOT EXISTS books\n",
    "             (title TEXT, author TEXT, year INTEGER)''')\n",
    "\n",
    "# Commit changes and close connection\n",
    "conn.commit()\n",
    "conn.close()"
   ]
  },
  {
   "cell_type": "code",
   "execution_count": 41,
   "id": "4e6d57a0",
   "metadata": {},
   "outputs": [
    {
     "name": "stdout",
     "output_type": "stream",
     "text": [
      "Data from books2.csv has been inserted into the books table successfully!\n"
     ]
    }
   ],
   "source": [
    "#16.5 Read books2.csv and insert its data into the book table.\n",
    "\n",
    "\n",
    "import sqlite3\n",
    "import csv\n",
    "\n",
    "conn = sqlite3.connect('books.db')\n",
    "c = conn.cursor()\n",
    "\n",
    "# CSV file\n",
    "with open('books2.csv', 'r', newline='') as csvfile:\n",
    "    reader = csv.reader(csvfile)\n",
    "    next(reader)  # Skip header row\n",
    "    for row in reader:\n",
    "        title = row[0]\n",
    "        author = row[1]\n",
    "        year = int(row[2])\n",
    "        \n",
    "        c.execute(\"INSERT INTO books (title, author, year) VALUES (?, ?, ?)\",\n",
    "                  (title, author, year))\n",
    "\n",
    "conn.commit()\n",
    "conn.close()\n",
    "\n",
    "print('Data from books2.csv has been inserted into the books table successfully!')\n"
   ]
  },
  {
   "cell_type": "code",
   "execution_count": 46,
   "id": "33c8acc6",
   "metadata": {},
   "outputs": [
    {
     "ename": "SyntaxError",
     "evalue": "invalid syntax (476018665.py, line 15)",
     "output_type": "error",
     "traceback": [
      "\u001b[1;36m  Cell \u001b[1;32mIn[46], line 15\u001b[1;36m\u001b[0m\n\u001b[1;33m    engine = create_engine(sqlite:///books.db)\u001b[0m\n\u001b[1;37m                                 ^\u001b[0m\n\u001b[1;31mSyntaxError\u001b[0m\u001b[1;31m:\u001b[0m invalid syntax\n"
     ]
    }
   ],
   "source": [
    "#16.8 Use the sqlalchemy module to connect to the sqlite3 database books.db that you just made in exercise 16.4. As in 16.6, select and print the title column from the book table in alphabetical order.\n",
    "\n",
    "from sqlalchemy import create_engine, Column, Integer, String\n",
    "from sqlalchemy.ext.declarative import declarative_base\n",
    "from sqlalchemy.orm import sessionmaker\n",
    "\n",
    "Base = declarative_base()\n",
    "class Book(Base):\n",
    "    __tablename__ = 'books'\n",
    "    id = Column(Integer, primary_key=True)\n",
    "    title = Column(String)\n",
    "    author = Column(String)\n",
    "    year = Column(Integer)\n",
    "\n",
    "engine = create_engine(sqlite:///books.db)\n",
    "Base.metadata.create_all(engine)\n",
    "Session = sessionmaker(bind=engine)\n",
    "session = Session()\n",
    "\n",
    "\n"
   ]
  },
  {
   "cell_type": "code",
   "execution_count": null,
   "id": "363e2f91",
   "metadata": {},
   "outputs": [],
   "source": []
  },
  {
   "cell_type": "code",
   "execution_count": null,
   "id": "dc688f16",
   "metadata": {},
   "outputs": [],
   "source": []
  }
 ],
 "metadata": {
  "kernelspec": {
   "display_name": "Python 3 (ipykernel)",
   "language": "python",
   "name": "python3"
  },
  "language_info": {
   "codemirror_mode": {
    "name": "ipython",
    "version": 3
   },
   "file_extension": ".py",
   "mimetype": "text/x-python",
   "name": "python",
   "nbconvert_exporter": "python",
   "pygments_lexer": "ipython3",
   "version": "3.10.9"
  }
 },
 "nbformat": 4,
 "nbformat_minor": 5
}
